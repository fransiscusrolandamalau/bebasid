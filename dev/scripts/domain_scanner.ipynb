{
  "nbformat": 4,
  "nbformat_minor": 0,
  "metadata": {
    "colab": {
      "provenance": []
    },
    "kernelspec": {
      "name": "python3",
      "display_name": "Python 3"
    },
    "language_info": {
      "name": "python"
    }
  },
  "cells": [
    {
      "cell_type": "markdown",
      "source": [
        "# BEBASID DOMAIN SCANNER"
      ],
      "metadata": {
        "id": "jgjLpfqg55Vy"
      }
    },
    {
      "cell_type": "markdown",
      "source": [
        "**Initialize**"
      ],
      "metadata": {
        "id": "q7E3jUqV2lzC"
      }
    },
    {
      "cell_type": "code",
      "source": [
        "!git clone https://github.com/aboul3la/Sublist3r.git\n",
        "!git clone https://github.com/thewhiteh4t/FinalRecon.git\n",
        "!sudo pip install -r Sublist3r/requirements.txt\n",
        "!sudo pip install -r FinalRecon/requirements.txt\n",
        "\n",
        "!sudo pip install anubis-netsec\n",
        "!pip3 install --upgrade requests\n",
        "\n",
        "!curl -LO https://github.com/findomain/findomain/releases/latest/download/findomain-linux.zip\n",
        "!unzip findomain-linux.zip\n",
        "!chmod +x findomain\n",
        "!sudo mv findomain /usr/bin/findomain\n",
        "\n",
        "!wget https://raw.githubusercontent.com/bebasid/bebasid/master/dev/scripts/scan.py\n",
        "\n",
        "!echo \"INSTALLATION DONE - ALL SET\""
      ],
      "metadata": {
        "id": "r1PdqyEf3F-D"
      },
      "execution_count": null,
      "outputs": []
    },
    {
      "cell_type": "code",
      "source": [
        "# ENTER DOMAIN NAME\n",
        "domain = \"domain.com\"\n",
        "\n",
        "!echo \"The domain $domain is set\""
      ],
      "metadata": {
        "id": "JvHMrYjxpQNt"
      },
      "execution_count": null,
      "outputs": []
    },
    {
      "cell_type": "markdown",
      "source": [
        "**Subdomain Finder 1 | Sublist3r**"
      ],
      "metadata": {
        "id": "A-HtOsDX3ADB"
      }
    },
    {
      "cell_type": "code",
      "source": [
        "!python Sublist3r/sublist3r.py -d {domain}"
      ],
      "metadata": {
        "id": "5W2wh4VN3yfD"
      },
      "execution_count": null,
      "outputs": []
    },
    {
      "cell_type": "markdown",
      "source": [
        "**Subdomain Finder 2 | Findomain**"
      ],
      "metadata": {
        "id": "-5u6VBw3atFf"
      }
    },
    {
      "cell_type": "code",
      "source": [
        "!findomain -t {domain}"
      ],
      "metadata": {
        "id": "42W-ig3TZ3ff"
      },
      "execution_count": null,
      "outputs": []
    },
    {
      "cell_type": "markdown",
      "source": [
        "**Subdomain Finder 3 | Anubis**"
      ],
      "metadata": {
        "id": "EGAeepT33Gdf"
      }
    },
    {
      "cell_type": "code",
      "source": [
        "!anubis -t {domain}"
      ],
      "metadata": {
        "id": "D8ev1BcsdUBb"
      },
      "execution_count": null,
      "outputs": []
    },
    {
      "cell_type": "markdown",
      "source": [
        "**Subdomain Finder 4 | FinalRecon**"
      ],
      "metadata": {
        "id": "ZU4O5VA_hUOG"
      }
    },
    {
      "cell_type": "code",
      "source": [
        "!python FinalRecon/finalrecon.py --sub https://{domain}"
      ],
      "metadata": {
        "id": "R7iYcYiDhWh8"
      },
      "execution_count": null,
      "outputs": []
    },
    {
      "cell_type": "markdown",
      "source": [
        " **Add domain lists to file**"
      ],
      "metadata": {
        "id": "N0wn4JBFenOy"
      }
    },
    {
      "cell_type": "code",
      "source": [
        "content = \"\"\"domain1\n",
        "domain2\n",
        "domain3\n",
        "domain1\n",
        "domain4\n",
        "domain5\n",
        "\"\"\"\n",
        "\n",
        "clean_content = '\\n'.join(line.strip() for line in content.splitlines())\n",
        "\n",
        "with open('domains-unsorted.txt', 'w') as f:\n",
        "    f.write(clean_content)\n",
        "\n",
        "!cat domains-unsorted.txt"
      ],
      "metadata": {
        "id": "9QwhOpHtvRb-"
      },
      "execution_count": null,
      "outputs": []
    },
    {
      "cell_type": "markdown",
      "source": [
        "**Sort and remove duplicate from list**"
      ],
      "metadata": {
        "id": "eGCg4YIi5GRo"
      }
    },
    {
      "cell_type": "code",
      "source": [
        "with open('domains-unsorted.txt', 'r') as file:\n",
        "    lines = file.read().split('\\n')\n",
        "\n",
        "unique_lines = list(set(lines))\n",
        "\n",
        "sorted_unique_lines = sorted(unique_lines, key=len)\n",
        "\n",
        "sorted_unique_content = \"\\n\".join(sorted_unique_lines)\n",
        "\n",
        "with open('domains-sorted.txt', 'w') as file:\n",
        "    file.write(sorted_unique_content)\n",
        "\n",
        "!cat domains-sorted.txt"
      ],
      "metadata": {
        "id": "jfL2Obv236ok"
      },
      "execution_count": null,
      "outputs": []
    },
    {
      "cell_type": "markdown",
      "source": [
        "**Run Scan**"
      ],
      "metadata": {
        "id": "t76GeP4j3RX9"
      }
    },
    {
      "cell_type": "code",
      "source": [
        "!python scan.py domains-sorted.txt\n",
        "!echo\n",
        "!echo \"Result Lists:\"\n",
        "!cat hosts-domains-sorted.txt"
      ],
      "metadata": {
        "id": "m12nw_Zd5rcx"
      },
      "execution_count": null,
      "outputs": []
    }
  ]
}
